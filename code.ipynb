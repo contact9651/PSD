{
 "cells": [
  {
   "cell_type": "code",
   "execution_count": 62,
   "metadata": {},
   "outputs": [],
   "source": [
    "import random\n",
    "\n",
    "class Random_Numbers_Generator:\n",
    "    def __init__(self, amount=int, min_range=int, max_range=int): #The first commit.\n",
    "         self.amount = amount\n",
    "         self.min_range = min_range\n",
    "         self.max_range = max_range\n",
    "         random_list = random.sample(range(min_range, max_range), amount)\n",
    "         print(random_list)\n",
    "        "
   ]
  },
  {
   "cell_type": "code",
   "execution_count": 65,
   "metadata": {},
   "outputs": [
    {
     "name": "stdout",
     "output_type": "stream",
     "text": [
      "[80, 78, 56, 54, 95, 86, 52, 33, 96, 29]\n"
     ]
    }
   ],
   "source": [
    "a = Random_Numbers_Generator(10,1,100)"
   ]
  }
 ],
 "metadata": {
  "kernelspec": {
   "display_name": "Python 3.9.12 ('base')",
   "language": "python",
   "name": "python3"
  },
  "language_info": {
   "codemirror_mode": {
    "name": "ipython",
    "version": 3
   },
   "file_extension": ".py",
   "mimetype": "text/x-python",
   "name": "python",
   "nbconvert_exporter": "python",
   "pygments_lexer": "ipython3",
   "version": "3.9.12"
  },
  "orig_nbformat": 4,
  "vscode": {
   "interpreter": {
    "hash": "2a7afba27c518e8de91f0dcbbf52f585a98159ed07d23f137e86bc0c773efb76"
   }
  }
 },
 "nbformat": 4,
 "nbformat_minor": 2
}
